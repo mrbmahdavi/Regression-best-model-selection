{
  "nbformat": 4,
  "nbformat_minor": 0,
  "metadata": {
    "colab": {
      "provenance": []
    },
    "kernelspec": {
      "name": "python3",
      "display_name": "Python 3"
    },
    "language_info": {
      "name": "python"
    }
  },
  "cells": [
    {
      "cell_type": "markdown",
      "source": [
        "Importing the Libraries and Dataset"
      ],
      "metadata": {
        "id": "LhNqvAauZp_r"
      }
    },
    {
      "cell_type": "code",
      "execution_count": 37,
      "metadata": {
        "id": "uY56kZeAVx4m"
      },
      "outputs": [],
      "source": [
        "import numpy as np\n",
        "import matplotlib.pyplot as plt\n",
        "import pandas as pd\n"
      ]
    },
    {
      "cell_type": "code",
      "source": [
        "dataset = pd.read_csv('Data.csv')\n",
        "dataset.info()\n",
        "# dataset source:uci machine learning repository\n",
        "# Dataset should not have missing data + should not need encoding(categorical data)"
      ],
      "metadata": {
        "colab": {
          "base_uri": "https://localhost:8080/"
        },
        "id": "xFOwjueDYRxz",
        "outputId": "7c9c3eb5-bf9f-4563-c658-9b47feee1de1"
      },
      "execution_count": 38,
      "outputs": [
        {
          "output_type": "stream",
          "name": "stdout",
          "text": [
            "<class 'pandas.core.frame.DataFrame'>\n",
            "RangeIndex: 9568 entries, 0 to 9567\n",
            "Data columns (total 5 columns):\n",
            " #   Column  Non-Null Count  Dtype  \n",
            "---  ------  --------------  -----  \n",
            " 0   AT      9568 non-null   float64\n",
            " 1   V       9568 non-null   float64\n",
            " 2   AP      9568 non-null   float64\n",
            " 3   RH      9568 non-null   float64\n",
            " 4   PE      9568 non-null   float64\n",
            "dtypes: float64(5)\n",
            "memory usage: 373.9 KB\n"
          ]
        }
      ]
    },
    {
      "cell_type": "code",
      "source": [
        "x = dataset.iloc[:,:-1].values\n",
        "y = dataset.iloc[:,-1].values"
      ],
      "metadata": {
        "id": "T_rfkvMDYXqB"
      },
      "execution_count": 39,
      "outputs": []
    },
    {
      "cell_type": "code",
      "source": [
        "from sklearn.model_selection import train_test_split\n",
        "\n",
        "x_train, x_test, y_train, y_test = train_test_split(x,y,test_size=0.2)"
      ],
      "metadata": {
        "id": "qFtBmfrtX66Z"
      },
      "execution_count": 40,
      "outputs": []
    },
    {
      "cell_type": "code",
      "source": [
        "# for the conclusion part: we should gather all the r2_scores\n",
        "r2s = []"
      ],
      "metadata": {
        "id": "UpYUGHX8aM5D"
      },
      "execution_count": 53,
      "outputs": []
    },
    {
      "cell_type": "markdown",
      "source": [
        "Multiple linear regression"
      ],
      "metadata": {
        "id": "8nvidjkvZpJu"
      }
    },
    {
      "cell_type": "code",
      "source": [
        "from sklearn.linear_model import LinearRegression\n",
        "from sklearn.metrics import r2_score\n",
        "\n",
        "model_MLR = LinearRegression()\n",
        "model_MLR.fit(x_train,y_train)\n",
        "r2_model_MLD = r2_score(y_test,model_MLR.predict(x_test))\n",
        "print(r2_model_MLD)\n",
        "r2s.append(r2_model_MLD)"
      ],
      "metadata": {
        "colab": {
          "base_uri": "https://localhost:8080/"
        },
        "id": "I0PjPwk6YhOz",
        "outputId": "11ca1fd9-897e-4071-cddb-dc01a9ef3d4a"
      },
      "execution_count": 42,
      "outputs": [
        {
          "output_type": "stream",
          "name": "stdout",
          "text": [
            "0.9300810654895191\n"
          ]
        }
      ]
    },
    {
      "cell_type": "markdown",
      "source": [
        "Polynominal linear regression"
      ],
      "metadata": {
        "id": "mil_qb5iZy67"
      }
    },
    {
      "cell_type": "code",
      "source": [
        "from sklearn.preprocessing import PolynomialFeatures\n",
        "from sklearn.linear_model import LogisticRegression\n",
        "from sklearn.metrics import r2_score\n",
        "\n",
        "poly_reg = PolynomialFeatures(degree=4)\n",
        "poly_x = poly_reg.fit_transform(x_train)\n",
        "poly_x_test = poly_reg.fit_transform(x_test)\n",
        "model_poly = LinearRegression()\n",
        "model_poly.fit(poly_x,y_train)\n",
        "r2_model_poly = r2_score(y_test,model_poly.predict(poly_x_test))\n",
        "print(r2_model_poly)\n",
        "r2s.append(r2_model_poly)"
      ],
      "metadata": {
        "colab": {
          "base_uri": "https://localhost:8080/"
        },
        "id": "1Dvct6DxYhxy",
        "outputId": "b0d14422-3ea2-450d-c89e-9eda5ff2a2f4"
      },
      "execution_count": 43,
      "outputs": [
        {
          "output_type": "stream",
          "name": "stdout",
          "text": [
            "0.943551128467442\n"
          ]
        }
      ]
    },
    {
      "cell_type": "markdown",
      "source": [
        "Support vector Regression"
      ],
      "metadata": {
        "id": "d96gC3rlWqFA"
      }
    },
    {
      "cell_type": "code",
      "source": [
        "from sklearn.preprocessing import StandardScaler\n",
        "from sklearn.svm import SVR\n",
        "from sklearn.metrics import r2_score\n",
        "scaler_x_train = StandardScaler()\n",
        "scaler_y_train = StandardScaler()\n",
        "scaler_x_test = StandardScaler()\n",
        "scaler_y_test = StandardScaler()\n",
        "\n",
        "x_train_scaled = scaler_x_train.fit_transform(x_train)\n",
        "y_train_scaled = scaler_y_train.fit_transform(y_train.reshape(len(y_train), 1))\n",
        "x_test_scaled = scaler_x_test.fit_transform(x_test)\n",
        "y_test_scaled = scaler_y_test.fit_transform(y_test.reshape(len(y_test), 1))\n",
        "\n",
        "model_svr = SVR(kernel='rbf')\n",
        "model_svr.fit(x_train_scaled,y_train_scaled)\n",
        "r2_model_svr = r2_score(y_test_scaled,model_svr.predict(x_test_scaled))\n",
        "print(r2_model_svr)\n",
        "r2s.append(r2_model_svr)"
      ],
      "metadata": {
        "colab": {
          "base_uri": "https://localhost:8080/"
        },
        "id": "CgukFOauZ4nF",
        "outputId": "e614121b-a5fd-4a97-933e-b9694a312ff1"
      },
      "execution_count": 44,
      "outputs": [
        {
          "output_type": "stream",
          "name": "stderr",
          "text": [
            "/usr/local/lib/python3.11/dist-packages/sklearn/utils/validation.py:1408: DataConversionWarning: A column-vector y was passed when a 1d array was expected. Please change the shape of y to (n_samples, ), for example using ravel().\n",
            "  y = column_or_1d(y, warn=True)\n"
          ]
        },
        {
          "output_type": "stream",
          "name": "stdout",
          "text": [
            "0.9461155971625786\n"
          ]
        }
      ]
    },
    {
      "cell_type": "markdown",
      "source": [
        "Decision tree regression"
      ],
      "metadata": {
        "id": "F0wCVeLxZ5F4"
      }
    },
    {
      "cell_type": "code",
      "source": [
        "from sklearn.tree import DecisionTreeRegressor\n",
        "from sklearn.metrics import r2_score\n",
        "\n",
        "model_dt = DecisionTreeRegressor()\n",
        "model_dt.fit(x_train,y_train)\n",
        "r2_model_dt = r2_score(y_test,model_dt.predict(x_test))\n",
        "print(r2_model_dt)\n",
        "r2s.append(r2_model_dt)"
      ],
      "metadata": {
        "colab": {
          "base_uri": "https://localhost:8080/"
        },
        "id": "xup266vQaCqN",
        "outputId": "c9c9152f-ce87-4fc1-a7e4-2633bd4d19c2"
      },
      "execution_count": 45,
      "outputs": [
        {
          "output_type": "stream",
          "name": "stdout",
          "text": [
            "0.9287797959986156\n"
          ]
        }
      ]
    },
    {
      "cell_type": "markdown",
      "source": [
        "Random forest regression"
      ],
      "metadata": {
        "id": "HpMsQxOcaDFs"
      }
    },
    {
      "cell_type": "code",
      "source": [
        "from sklearn.ensemble import RandomForestRegressor\n",
        "from sklearn.metrics import r2_score\n",
        "\n",
        "model_rfr = RandomForestRegressor(n_estimators=10)\n",
        "model_rfr.fit(x_train,y_train)\n",
        "r2_model_rfr = r2_score(y_test,model_rfr.predict(x_test))\n",
        "print(r2_model_rfr)\n",
        "r2s.append(r2_model_rfr)"
      ],
      "metadata": {
        "colab": {
          "base_uri": "https://localhost:8080/"
        },
        "id": "_axn7TfEaE_b",
        "outputId": "76720a54-c040-4394-dd31-39f2060c5517"
      },
      "execution_count": 46,
      "outputs": [
        {
          "output_type": "stream",
          "name": "stdout",
          "text": [
            "0.9606055867848248\n"
          ]
        }
      ]
    },
    {
      "cell_type": "markdown",
      "source": [
        "Conclusion"
      ],
      "metadata": {
        "id": "UKeO4OAOaFdm"
      }
    },
    {
      "cell_type": "code",
      "source": [
        "max_r2 = np.argmax(r2s)\n",
        "algorythms = ['Multiple Linear Regression','Polynominal Linear Regression','Support Vector Regression','Decision Tree','Random Forest']\n",
        "shoulduse = algorythms[max_r2]\n",
        "print(f'We should use the {shoulduse} algorythm!(based on r2_scores)')"
      ],
      "metadata": {
        "colab": {
          "base_uri": "https://localhost:8080/"
        },
        "id": "_w168r4gXy39",
        "outputId": "a0f57f7d-3442-435a-d054-3c3c916be101"
      },
      "execution_count": 52,
      "outputs": [
        {
          "output_type": "stream",
          "name": "stdout",
          "text": [
            "We should use the Random Forest algorythm!\n"
          ]
        }
      ]
    }
  ]
}